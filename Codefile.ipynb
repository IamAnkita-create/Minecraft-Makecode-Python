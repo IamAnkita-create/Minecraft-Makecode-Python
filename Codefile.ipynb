{
  "nbformat": 4,
  "nbformat_minor": 0,
  "metadata": {
    "colab": {
      "name": "Makecode.ipynb",
      "provenance": [],
      "collapsed_sections": []
    },
    "kernelspec": {
      "name": "python3",
      "display_name": "Python 3"
    }
  },
  "cells": [
    {
      "cell_type": "markdown",
      "metadata": {
        "id": "Fcnsbk9HKyot",
        "colab_type": "text"
      },
      "source": [
        ""
      ]
    },
    {
      "cell_type": "markdown",
      "metadata": {
        "id": "rEmTrCPRAuWh",
        "colab_type": "text"
      },
      "source": [
        "# Minecraft in Python"
      ]
    },
    {
      "cell_type": "markdown",
      "metadata": {
        "id": "4QW1GOLJKNWd",
        "colab_type": "text"
      },
      "source": [
        "**Here is link to my youutbe.You can find the video of complete session here done step by step from installation to how to makecode in Makecode!!**"
      ]
    },
    {
      "cell_type": "markdown",
      "metadata": {
        "id": "cjbv4gG_Kdks",
        "colab_type": "text"
      },
      "source": [
        "*https://www.youtube.com/watch?v=VyxcSo42vho&t=1s*\n",
        "\n",
        "---\n",
        "\n"
      ]
    },
    {
      "cell_type": "markdown",
      "metadata": {
        "id": "BSVw-MaLBmlc",
        "colab_type": "text"
      },
      "source": [
        "# We will be using Minecraft Educational Edition"
      ]
    },
    {
      "cell_type": "markdown",
      "metadata": {
        "id": "nsfWmddYB61L",
        "colab_type": "text"
      },
      "source": [
        "# Remember the keys to be used are :\n",
        "[W]- Move Forward\n",
        "\n",
        "*   [W]- Move Forward\n",
        "\n",
        "*  [A]-Move left \n",
        "\n",
        "\n",
        "*   [S]- Move Backward\n",
        "\n",
        "*   [D]= Move Right\n",
        "*  [SPACE]-Jump\n",
        "\n",
        "\n",
        "*   [C]- code builder\n",
        "\n",
        "*   [T]- Text Box\n",
        "\n"
      ]
    },
    {
      "cell_type": "markdown",
      "metadata": {
        "id": "iLOrtjp0CHnG",
        "colab_type": "text"
      },
      "source": [
        "# Making a flower Trail:"
      ]
    },
    {
      "cell_type": "markdown",
      "metadata": {
        "id": "765CFgSLCNRj",
        "colab_type": "text"
      },
      "source": [
        "Step 1: Create a function.We can creat a function by giving the keyword \"def\" and give our function a name,then also inclue paranthesis.Then you define the statements inside and call our function.So let'sget started!!"
      ]
    },
    {
      "cell_type": "markdown",
      "metadata": {
        "id": "OMeA1zdTFX-k",
        "colab_type": "text"
      },
      "source": [
        "## Leave a trail of flowers everywhere you go."
      ]
    },
    {
      "cell_type": "markdown",
      "metadata": {
        "id": "4NNpWPBbG9Jx",
        "colab_type": "text"
      },
      "source": [
        "We want to place flowers while walking so let's use on_travelled event for Walk"
      ]
    },
    {
      "cell_type": "code",
      "metadata": {
        "id": "SXgYQfRlHS54",
        "colab_type": "code",
        "colab": {}
      },
      "source": [
        "def on_travelled():\n",
        "    pass\n",
        "player.on_travelled(WALK, on_travelled)\n"
      ],
      "execution_count": 0,
      "outputs": []
    },
    {
      "cell_type": "markdown",
      "metadata": {
        "id": "qsUgJLKGHVCq",
        "colab_type": "text"
      },
      "source": [
        "Place Yellow flower at player's current position.\n",
        "  The number(0,0,0) means flowers are placed at player's current position.So   every position you walk gets a flowers.\n",
        "    "
      ]
    },
    {
      "cell_type": "code",
      "metadata": {
        "id": "NrCgWIS7Hzlo",
        "colab_type": "code",
        "colab": {}
      },
      "source": [
        "def on_travelled():\n",
        "    blocks.place(YELLOW_FLOWER, pos(0,0,0))\n",
        "player.on_travelled(WALK, on_travelled)\n"
      ],
      "execution_count": 0,
      "outputs": []
    },
    {
      "cell_type": "markdown",
      "metadata": {
        "id": "ee5Fd3XpH2Fa",
        "colab_type": "text"
      },
      "source": [
        "We can also try some other blocks like Red Mushrooms, or Daisys."
      ]
    },
    {
      "cell_type": "code",
      "metadata": {
        "id": "1QislyKAIDko",
        "colab_type": "code",
        "colab": {}
      },
      "source": [
        "def on_travelled():\n",
        "    blocks.place(YELLOW_FLOWER, pos(0,0,0))\n",
        "    blocks.place(RED_MUSHROOM, pos(0,0,0))\n",
        "    blocks.place(OXEYE_DAISY, pos(0,0,0))\n",
        "player.on_travelled(WALK, on_travelled)\n",
        "\n"
      ],
      "execution_count": 0,
      "outputs": []
    },
    {
      "cell_type": "markdown",
      "metadata": {
        "id": "qMlfyCNzIHgN",
        "colab_type": "text"
      },
      "source": [
        "Now hit the run button and go back to your minecraft and Walk a little,turn back and see there will be a trail of flowers, red mushrooms and Daiisys following you around!!"
      ]
    },
    {
      "cell_type": "markdown",
      "metadata": {
        "id": "9590XJzoJQro",
        "colab_type": "text"
      },
      "source": [
        "# Let's try BillBoard!!"
      ]
    },
    {
      "cell_type": "markdown",
      "metadata": {
        "id": "YgNwqRC1Jb2s",
        "colab_type": "text"
      },
      "source": [
        "Let's print your name or some big words in minecraft!! Print your name and let's keep it at your current position and make it face WEST"
      ]
    },
    {
      "cell_type": "code",
      "metadata": {
        "id": "Hjv5EaKZJWM_",
        "colab_type": "code",
        "colab": {}
      },
      "source": [
        "blocks.print(\"Ankita\", TNT, pos(0,0,0), WEST)"
      ],
      "execution_count": 0,
      "outputs": []
    },
    {
      "cell_type": "markdown",
      "metadata": {
        "id": "Ngj9Qoy8J3Ev",
        "colab_type": "text"
      },
      "source": [
        "Now hit the run button and go back to your minecraft and turn around and see there it is!! "
      ]
    },
    {
      "cell_type": "markdown",
      "metadata": {
        "id": "3OhdGKI_J6cW",
        "colab_type": "text"
      },
      "source": [
        "# **See how easy it is to make a trail of flowers and make billboard using python and makecode!! We can get many and many tutorials in makecode so it it out!!**"
      ]
    }
  ]
}
